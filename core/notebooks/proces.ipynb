{
 "cells": [
  {
   "cell_type": "code",
   "execution_count": 1,
   "metadata": {},
   "outputs": [],
   "source": [
    "import sys\n",
    "\n",
    "if sys.platform == \"win32\":\n",
    "    sys.path.append(\"D:/DevSpace/Projects/Research/SeizureDetection\")\n",
    "elif sys.platform == \"linux\":\n",
    "    sys.path.append(\"/mnt/d/gniazdko/SeizureDetection\")"
   ]
  },
  {
   "cell_type": "code",
   "execution_count": 2,
   "metadata": {},
   "outputs": [
    {
     "name": "stderr",
     "output_type": "stream",
     "text": [
      "d:\\DevSpace\\Projects\\Research\\research_env\\Lib\\site-packages\\tqdm\\auto.py:21: TqdmWarning: IProgress not found. Please update jupyter and ipywidgets. See https://ipywidgets.readthedocs.io/en/stable/user_install.html\n",
      "  from .autonotebook import tqdm as notebook_tqdm\n"
     ]
    }
   ],
   "source": [
    "from torchsummary import summary\n",
    "import matplotlib.pyplot as plt\n",
    "\n",
    "from core.utils import ProjectManager, ConfigManager\n",
    "from core.utils import load_model_input_data\n",
    "\n",
    "from core.machine_learning import (\n",
    "    sample_data,\n",
    "    split_data_by_proportions,\n",
    "    create_dataloaders,\n",
    ")"
   ]
  },
  {
   "cell_type": "code",
   "execution_count": 3,
   "metadata": {},
   "outputs": [],
   "source": [
    "project_manager = ProjectManager()\n",
    "configs_directory_path = project_manager.get_configs_directory_path()\n",
    "primary_data_path = project_manager.get_primary_data_path()\n",
    "model_directory_path = project_manager.get_model_data_path()\n",
    "\n",
    "config_manager = ConfigManager(configs_directory_path)\n",
    "model_params = config_manager.load_config(\"parameters_machine_learning\")"
   ]
  },
  {
   "cell_type": "code",
   "execution_count": 4,
   "metadata": {},
   "outputs": [
    {
     "data": {
      "text/plain": [
       "((2321, 1, 18, 64, 64), (2321,))"
      ]
     },
     "execution_count": 4,
     "metadata": {},
     "output_type": "execute_result"
    }
   ],
   "source": [
    "model_input_data = load_model_input_data(\n",
    "    primary_data_path, model_params)\n",
    "\n",
    "model_input_data[0].shape, model_input_data[1].shape"
   ]
  },
  {
   "cell_type": "code",
   "execution_count": 5,
   "metadata": {},
   "outputs": [
    {
     "data": {
      "text/plain": [
       "((2321, 1, 18, 64, 64), (2321,))"
      ]
     },
     "execution_count": 5,
     "metadata": {},
     "output_type": "execute_result"
    }
   ],
   "source": [
    "X, y = model_input_data\n",
    "\n",
    "X.shape, y.shape"
   ]
  },
  {
   "cell_type": "code",
   "execution_count": 6,
   "metadata": {},
   "outputs": [
    {
     "data": {
      "image/png": "[encoded data removed]",
      "text/plain": [
       "<Figure size 640x480 with 1 Axes>"
      ]
     },
     "metadata": {},
     "output_type": "display_data"
    }
   ],
   "source": [
    "plt.imshow(X[2137, 0, 9, :, :]);"
   ]
  },
  {
   "cell_type": "code",
   "execution_count": 7,
   "metadata": {},
   "outputs": [],
   "source": [
    "data_splits = split_data_by_proportions(\n",
    "    model_input_data, model_params[\"data_parameters\"])\n",
    "\n",
    "train_data, valid_data, test_data = create_dataloaders(\n",
    "    data_splits, model_params[\"data_parameters\"])"
   ]
  },
  {
   "cell_type": "code",
   "execution_count": 8,
   "metadata": {},
   "outputs": [
    {
     "data": {
      "text/plain": [
       "(torch.Size([16, 1, 18, 64, 64]), torch.Size([16]))"
      ]
     },
     "execution_count": 8,
     "metadata": {},
     "output_type": "execute_result"
    }
   ],
   "source": [
    "single_batch = next(iter(train_data))\n",
    "\n",
    "\n",
    "features, targets = single_batch\n",
    "features, targets = features.to('cuda'), targets.to('cuda')\n",
    "\n",
    "features.shape, targets.shape"
   ]
  },
  {
   "cell_type": "code",
   "execution_count": 9,
   "metadata": {},
   "outputs": [],
   "source": [
    "model_parameters = model_params[\"model_parameters\"]"
   ]
  },
  {
   "cell_type": "code",
   "execution_count": 10,
   "metadata": {},
   "outputs": [],
   "source": [
    "from core.machine_learning.model_builder import R2Plus1DConvNet\n",
    "from core.machine_learning.accuracy import BinaryAccuracy\n",
    "\n",
    "from torch.optim import SGD\n",
    "from torch.optim.lr_scheduler import StepLR\n",
    "from torch.nn import CrossEntropyLoss"
   ]
  },
  {
   "cell_type": "code",
   "execution_count": 11,
   "metadata": {},
   "outputs": [],
   "source": [
    "model = R2Plus1DConvNet(1, 2, 0)\n",
    "\n",
    "model = model.to(model_parameters[\"device\"])"
   ]
  },
  {
   "cell_type": "code",
   "execution_count": 12,
   "metadata": {},
   "outputs": [
    {
     "data": {
      "text/plain": [
       "R2Plus1DConvNet(\n",
       "  (conv1): Sequential(\n",
       "    (0): Conv2Plus1D(\n",
       "      (spatial_convolution): Conv2d(1, 39, kernel_size=(7, 7), stride=(2, 2), padding=(3, 3))\n",
       "      (temporal_convolution): Conv1d(39, 64, kernel_size=(3,), stride=(1,), padding=(1,))\n",
       "    )\n",
       "    (1): BatchNorm3d(64, eps=1e-05, momentum=0.1, affine=True, track_running_stats=True)\n",
       "    (2): ReLU(inplace=True)\n",
       "  )\n",
       "  (conv2): ResidualBlock(\n",
       "    (conv_block): ConvolutionalBlock(\n",
       "      (convolution): Sequential(\n",
       "        (0): Conv2Plus1D(\n",
       "          (spatial_convolution): Conv2d(64, 144, kernel_size=(3, 3), stride=(2, 2), padding=(1, 1))\n",
       "          (temporal_convolution): Conv1d(144, 64, kernel_size=(3,), stride=(2,), padding=(1,))\n",
       "        )\n",
       "        (1): BatchNorm3d(64, eps=1e-05, momentum=0.1, affine=True, track_running_stats=True)\n",
       "        (2): ReLU(inplace=True)\n",
       "        (3): Conv2Plus1D(\n",
       "          (spatial_convolution): Conv2d(64, 144, kernel_size=(3, 3), stride=(1, 1), padding=(1, 1))\n",
       "          (temporal_convolution): Conv1d(144, 64, kernel_size=(3,), stride=(1,), padding=(1,))\n",
       "        )\n",
       "        (4): BatchNorm3d(64, eps=1e-05, momentum=0.1, affine=True, track_running_stats=True)\n",
       "        (5): Dropout(p=0, inplace=False)\n",
       "      )\n",
       "      (shortcut): Conv2Plus1D(\n",
       "        (spatial_convolution): Conv2d(64, 32, kernel_size=(1, 1), stride=(2, 2))\n",
       "        (temporal_convolution): Conv1d(32, 64, kernel_size=(1,), stride=(2,))\n",
       "      )\n",
       "      (relu): ReLU(inplace=True)\n",
       "    )\n",
       "    (identity_block): IdentityBlock(\n",
       "      (convolution): Sequential(\n",
       "        (0): Conv2Plus1D(\n",
       "          (spatial_convolution): Conv2d(64, 144, kernel_size=(3, 3), stride=(1, 1), padding=(1, 1))\n",
       "          (temporal_convolution): Conv1d(144, 64, kernel_size=(3,), stride=(1,), padding=(1,))\n",
       "        )\n",
       "        (1): BatchNorm3d(64, eps=1e-05, momentum=0.1, affine=True, track_running_stats=True)\n",
       "        (2): ReLU(inplace=True)\n",
       "        (3): Conv2Plus1D(\n",
       "          (spatial_convolution): Conv2d(64, 144, kernel_size=(3, 3), stride=(1, 1), padding=(1, 1))\n",
       "          (temporal_convolution): Conv1d(144, 64, kernel_size=(3,), stride=(1,), padding=(1,))\n",
       "        )\n",
       "        (4): BatchNorm3d(64, eps=1e-05, momentum=0.1, affine=True, track_running_stats=True)\n",
       "        (5): Dropout(p=0, inplace=False)\n",
       "      )\n",
       "      (relu): ReLU(inplace=True)\n",
       "    )\n",
       "  )\n",
       "  (conv3): ResidualBlock(\n",
       "    (conv_block): ConvolutionalBlock(\n",
       "      (convolution): Sequential(\n",
       "        (0): Conv2Plus1D(\n",
       "          (spatial_convolution): Conv2d(64, 230, kernel_size=(3, 3), stride=(2, 2), padding=(1, 1))\n",
       "          (temporal_convolution): Conv1d(230, 128, kernel_size=(3,), stride=(2,), padding=(1,))\n",
       "        )\n",
       "        (1): BatchNorm3d(128, eps=1e-05, momentum=0.1, affine=True, track_running_stats=True)\n",
       "        (2): ReLU(inplace=True)\n",
       "        (3): Conv2Plus1D(\n",
       "          (spatial_convolution): Conv2d(128, 288, kernel_size=(3, 3), stride=(1, 1), padding=(1, 1))\n",
       "          (temporal_convolution): Conv1d(288, 128, kernel_size=(3,), stride=(1,), padding=(1,))\n",
       "        )\n",
       "        (4): BatchNorm3d(128, eps=1e-05, momentum=0.1, affine=True, track_running_stats=True)\n",
       "        (5): Dropout(p=0, inplace=False)\n",
       "      )\n",
       "      (shortcut): Conv2Plus1D(\n",
       "        (spatial_convolution): Conv2d(64, 42, kernel_size=(1, 1), stride=(2, 2))\n",
       "        (temporal_convolution): Conv1d(42, 128, kernel_size=(1,), stride=(2,))\n",
       "      )\n",
       "      (relu): ReLU(inplace=True)\n",
       "    )\n",
       "    (identity_block): IdentityBlock(\n",
       "      (convolution): Sequential(\n",
       "        (0): Conv2Plus1D(\n",
       "          (spatial_convolution): Conv2d(128, 288, kernel_size=(3, 3), stride=(1, 1), padding=(1, 1))\n",
       "          (temporal_convolution): Conv1d(288, 128, kernel_size=(3,), stride=(1,), padding=(1,))\n",
       "        )\n",
       "        (1): BatchNorm3d(128, eps=1e-05, momentum=0.1, affine=True, track_running_stats=True)\n",
       "        (2): ReLU(inplace=True)\n",
       "        (3): Conv2Plus1D(\n",
       "          (spatial_convolution): Conv2d(128, 288, kernel_size=(3, 3), stride=(1, 1), padding=(1, 1))\n",
       "          (temporal_convolution): Conv1d(288, 128, kernel_size=(3,), stride=(1,), padding=(1,))\n",
       "        )\n",
       "        (4): BatchNorm3d(128, eps=1e-05, momentum=0.1, affine=True, track_running_stats=True)\n",
       "        (5): Dropout(p=0, inplace=False)\n",
       "      )\n",
       "      (relu): ReLU(inplace=True)\n",
       "    )\n",
       "  )\n",
       "  (conv4): ResidualBlock(\n",
       "    (conv_block): ConvolutionalBlock(\n",
       "      (convolution): Sequential(\n",
       "        (0): Conv2Plus1D(\n",
       "          (spatial_convolution): Conv2d(128, 460, kernel_size=(3, 3), stride=(2, 2), padding=(1, 1))\n",
       "          (temporal_convolution): Conv1d(460, 256, kernel_size=(3,), stride=(2,), padding=(1,))\n",
       "        )\n",
       "        (1): BatchNorm3d(256, eps=1e-05, momentum=0.1, affine=True, track_running_stats=True)\n",
       "        (2): ReLU(inplace=True)\n",
       "        (3): Conv2Plus1D(\n",
       "          (spatial_convolution): Conv2d(256, 576, kernel_size=(3, 3), stride=(1, 1), padding=(1, 1))\n",
       "          (temporal_convolution): Conv1d(576, 256, kernel_size=(3,), stride=(1,), padding=(1,))\n",
       "        )\n",
       "        (4): BatchNorm3d(256, eps=1e-05, momentum=0.1, affine=True, track_running_stats=True)\n",
       "        (5): Dropout(p=0, inplace=False)\n",
       "      )\n",
       "      (shortcut): Conv2Plus1D(\n",
       "        (spatial_convolution): Conv2d(128, 85, kernel_size=(1, 1), stride=(2, 2))\n",
       "        (temporal_convolution): Conv1d(85, 256, kernel_size=(1,), stride=(2,))\n",
       "      )\n",
       "      (relu): ReLU(inplace=True)\n",
       "    )\n",
       "    (identity_block): IdentityBlock(\n",
       "      (convolution): Sequential(\n",
       "        (0): Conv2Plus1D(\n",
       "          (spatial_convolution): Conv2d(256, 576, kernel_size=(3, 3), stride=(1, 1), padding=(1, 1))\n",
       "          (temporal_convolution): Conv1d(576, 256, kernel_size=(3,), stride=(1,), padding=(1,))\n",
       "        )\n",
       "        (1): BatchNorm3d(256, eps=1e-05, momentum=0.1, affine=True, track_running_stats=True)\n",
       "        (2): ReLU(inplace=True)\n",
       "        (3): Conv2Plus1D(\n",
       "          (spatial_convolution): Conv2d(256, 576, kernel_size=(3, 3), stride=(1, 1), padding=(1, 1))\n",
       "          (temporal_convolution): Conv1d(576, 256, kernel_size=(3,), stride=(1,), padding=(1,))\n",
       "        )\n",
       "        (4): BatchNorm3d(256, eps=1e-05, momentum=0.1, affine=True, track_running_stats=True)\n",
       "        (5): Dropout(p=0, inplace=False)\n",
       "      )\n",
       "      (relu): ReLU(inplace=True)\n",
       "    )\n",
       "  )\n",
       "  (conv5): ResidualBlock(\n",
       "    (conv_block): ConvolutionalBlock(\n",
       "      (convolution): Sequential(\n",
       "        (0): Conv2Plus1D(\n",
       "          (spatial_convolution): Conv2d(256, 921, kernel_size=(3, 3), stride=(2, 2), padding=(1, 1))\n",
       "          (temporal_convolution): Conv1d(921, 512, kernel_size=(3,), stride=(2,), padding=(1,))\n",
       "        )\n",
       "        (1): BatchNorm3d(512, eps=1e-05, momentum=0.1, affine=True, track_running_stats=True)\n",
       "        (2): ReLU(inplace=True)\n",
       "        (3): Conv2Plus1D(\n",
       "          (spatial_convolution): Conv2d(512, 1152, kernel_size=(3, 3), stride=(1, 1), padding=(1, 1))\n",
       "          (temporal_convolution): Conv1d(1152, 512, kernel_size=(3,), stride=(1,), padding=(1,))\n",
       "        )\n",
       "        (4): BatchNorm3d(512, eps=1e-05, momentum=0.1, affine=True, track_running_stats=True)\n",
       "        (5): Dropout(p=0, inplace=False)\n",
       "      )\n",
       "      (shortcut): Conv2Plus1D(\n",
       "        (spatial_convolution): Conv2d(256, 170, kernel_size=(1, 1), stride=(2, 2))\n",
       "        (temporal_convolution): Conv1d(170, 512, kernel_size=(1,), stride=(2,))\n",
       "      )\n",
       "      (relu): ReLU(inplace=True)\n",
       "    )\n",
       "    (identity_block): IdentityBlock(\n",
       "      (convolution): Sequential(\n",
       "        (0): Conv2Plus1D(\n",
       "          (spatial_convolution): Conv2d(512, 1152, kernel_size=(3, 3), stride=(1, 1), padding=(1, 1))\n",
       "          (temporal_convolution): Conv1d(1152, 512, kernel_size=(3,), stride=(1,), padding=(1,))\n",
       "        )\n",
       "        (1): BatchNorm3d(512, eps=1e-05, momentum=0.1, affine=True, track_running_stats=True)\n",
       "        (2): ReLU(inplace=True)\n",
       "        (3): Conv2Plus1D(\n",
       "          (spatial_convolution): Conv2d(512, 1152, kernel_size=(3, 3), stride=(1, 1), padding=(1, 1))\n",
       "          (temporal_convolution): Conv1d(1152, 512, kernel_size=(3,), stride=(1,), padding=(1,))\n",
       "        )\n",
       "        (4): BatchNorm3d(512, eps=1e-05, momentum=0.1, affine=True, track_running_stats=True)\n",
       "        (5): Dropout(p=0, inplace=False)\n",
       "      )\n",
       "      (relu): ReLU(inplace=True)\n",
       "    )\n",
       "  )\n",
       "  (avgpool): AdaptiveAvgPool3d(output_size=(1, 1, 1))\n",
       "  (fc): Sequential(\n",
       "    (0): Linear(in_features=512, out_features=1000, bias=True)\n",
       "    (1): ReLU(inplace=True)\n",
       "    (2): Dropout(p=0, inplace=False)\n",
       "    (3): Linear(in_features=1000, out_features=2, bias=True)\n",
       "  )\n",
       ")"
      ]
     },
     "execution_count": 12,
     "metadata": {},
     "output_type": "execute_result"
    }
   ],
   "source": [
    "model"
   ]
  },
  {
   "cell_type": "code",
   "execution_count": 13,
   "metadata": {},
   "outputs": [],
   "source": [
    "# summary(model, input_data=(1, 18, 128, 128))"
   ]
  },
  {
   "cell_type": "code",
   "execution_count": 14,
   "metadata": {},
   "outputs": [],
   "source": [
    "loss_fn = CrossEntropyLoss()\n",
    "accuracy_fn = BinaryAccuracy()\n",
    "\n",
    "optimizer = SGD(\n",
    "    params=model.parameters(),\n",
    "    lr=model_parameters[\"learning_rate\"],\n",
    "    weight_decay=model_parameters[\"weight_decay\"])\n",
    "    \n",
    "lr_scheduler = StepLR(\n",
    "    optimizer,\n",
    "    step_size=model_parameters[\"step_size\"],\n",
    "    gamma=model_parameters[\"gamma\"])"
   ]
  },
  {
   "cell_type": "code",
   "execution_count": 15,
   "metadata": {},
   "outputs": [
    {
     "data": {
      "text/plain": [
       "torch.Size([16, 1, 18, 64, 64])"
      ]
     },
     "execution_count": 15,
     "metadata": {},
     "output_type": "execute_result"
    }
   ],
   "source": [
    "features.shape"
   ]
  },
  {
   "cell_type": "code",
   "execution_count": 16,
   "metadata": {},
   "outputs": [
    {
     "name": "stdout",
     "output_type": "stream",
     "text": [
      "input shape: torch.Size([16, 1, 18, 64, 64])\n",
      "conv1 output shape: torch.Size([16, 64, 18, 32, 32])\n",
      "conv2 output shape: torch.Size([16, 64, 9, 16, 16])\n",
      "conv3 output shape: torch.Size([16, 128, 5, 8, 8])\n",
      "conv4 output shape: torch.Size([16, 256, 3, 4, 4])\n",
      "conv5 output shape: torch.Size([16, 512, 2, 2, 2])\n",
      "avgpool output shape: torch.Size([16, 512, 1, 1, 1])\n",
      "flatten output shape: torch.Size([16, 512])\n",
      "fc output shape: torch.Size([16, 2])\n"
     ]
    },
    {
     "data": {
      "text/plain": [
       "tensor([[0.1209, 0.2545],\n",
       "        [0.1122, 0.1963],\n",
       "        [0.0908, 0.1898],\n",
       "        [0.3419, 0.4259],\n",
       "        [0.1017, 0.1592],\n",
       "        [0.1747, 0.1304],\n",
       "        [0.1732, 0.1441],\n",
       "        [0.1629, 0.1897],\n",
       "        [0.0969, 0.2236],\n",
       "        [0.1365, 0.1790],\n",
       "        [0.1353, 0.2070],\n",
       "        [0.1474, 0.2446],\n",
       "        [0.1109, 0.1730],\n",
       "        [0.1841, 0.3422],\n",
       "        [0.1975, 0.1178],\n",
       "        [0.1176, 0.2594]], device='cuda:0', grad_fn=<AddmmBackward0>)"
      ]
     },
     "execution_count": 16,
     "metadata": {},
     "output_type": "execute_result"
    }
   ],
   "source": [
    "output = model(features)\n",
    "output"
   ]
  },
  {
   "cell_type": "code",
   "execution_count": null,
   "metadata": {},
   "outputs": [],
   "source": []
  },
  {
   "cell_type": "code",
   "execution_count": null,
   "metadata": {},
   "outputs": [],
   "source": []
  },
  {
   "cell_type": "code",
   "execution_count": null,
   "metadata": {},
   "outputs": [],
   "source": []
  },
  {
   "cell_type": "code",
   "execution_count": null,
   "metadata": {},
   "outputs": [],
   "source": []
  },
  {
   "cell_type": "code",
   "execution_count": null,
   "metadata": {},
   "outputs": [],
   "source": []
  },
  {
   "cell_type": "code",
   "execution_count": null,
   "metadata": {},
   "outputs": [],
   "source": []
  },
  {
   "cell_type": "code",
   "execution_count": null,
   "metadata": {},
   "outputs": [],
   "source": []
  },
  {
   "cell_type": "code",
   "execution_count": null,
   "metadata": {},
   "outputs": [],
   "source": []
  },
  {
   "cell_type": "code",
   "execution_count": null,
   "metadata": {},
   "outputs": [],
   "source": []
  }
 ],
 "metadata": {
  "kernelspec": {
   "display_name": "research_env",
   "language": "python",
   "name": "python3"
  },
  "language_info": {
   "codemirror_mode": {
    "name": "ipython",
    "version": 3
   },
   "file_extension": ".py",
   "mimetype": "text/x-python",
   "name": "python",
   "nbconvert_exporter": "python",
   "pygments_lexer": "ipython3",
   "version": "3.11.1"
  }
 },
 "nbformat": 4,
 "nbformat_minor": 2
}
