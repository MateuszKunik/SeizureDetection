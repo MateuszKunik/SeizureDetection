{
 "cells": [
  {
   "cell_type": "code",
   "execution_count": 1,
   "metadata": {},
   "outputs": [],
   "source": [
    "import sys\n",
    "\n",
    "if sys.platform == \"win32\":\n",
    "    sys.path.append(\"D:/DevSpace/Projects/Research/SeizureDetection\")\n",
    "elif sys.platform == \"linux\":\n",
    "    sys.path.append(\"/mnt/d/gniazdko/SeizureDetection\")"
   ]
  },
  {
   "cell_type": "code",
   "execution_count": 2,
   "metadata": {},
   "outputs": [
    {
     "name": "stderr",
     "output_type": "stream",
     "text": [
      "d:\\DevSpace\\Projects\\Research\\research_env\\Lib\\site-packages\\tqdm\\auto.py:21: TqdmWarning: IProgress not found. Please update jupyter and ipywidgets. See https://ipywidgets.readthedocs.io/en/stable/user_install.html\n",
      "  from .autonotebook import tqdm as notebook_tqdm\n"
     ]
    }
   ],
   "source": [
    "from core.machine_learning.engine import SimpleNet, BCEWithLogitsLoss, BinaryAccuracy, SGD, StepLR"
   ]
  },
  {
   "cell_type": "code",
   "execution_count": 3,
   "metadata": {},
   "outputs": [],
   "source": [
    "from torchsummary import summary\n",
    "import matplotlib.pyplot as plt\n",
    "\n",
    "from core.utils import ProjectManager, ConfigManager\n",
    "from core.utils import load_model_input_data\n",
    "\n",
    "from core.machine_learning import (\n",
    "    sample_data,\n",
    "    split_data_by_proportions,\n",
    "    create_dataloaders,\n",
    ")"
   ]
  },
  {
   "cell_type": "code",
   "execution_count": 4,
   "metadata": {},
   "outputs": [],
   "source": [
    "project_manager = ProjectManager()\n",
    "configs_directory_path = project_manager.get_configs_directory_path()\n",
    "primary_data_path = project_manager.get_primary_data_path()\n",
    "model_directory_path = project_manager.get_model_data_path()\n",
    "\n",
    "config_manager = ConfigManager(configs_directory_path)\n",
    "model_params = config_manager.load_config(\"parameters_machine_learning\")"
   ]
  },
  {
   "cell_type": "code",
   "execution_count": 5,
   "metadata": {},
   "outputs": [],
   "source": [
    "model_input_data = load_model_input_data(\n",
    "    primary_data_path, model_params[\"data_version\"])"
   ]
  },
  {
   "cell_type": "code",
   "execution_count": 6,
   "metadata": {},
   "outputs": [],
   "source": [
    "model_input_data = sample_data(model_input_data, fraction=1)"
   ]
  },
  {
   "cell_type": "code",
   "execution_count": 7,
   "metadata": {},
   "outputs": [
    {
     "data": {
      "text/plain": [
       "((2321, 18, 64, 64, 1), (2321,))"
      ]
     },
     "execution_count": 7,
     "metadata": {},
     "output_type": "execute_result"
    }
   ],
   "source": [
    "X, y = model_input_data\n",
    "\n",
    "X.shape, y.shape"
   ]
  },
  {
   "cell_type": "code",
   "execution_count": 9,
   "metadata": {},
   "outputs": [
    {
     "data": {
      "image/png": "[encoded data removed]",
      "text/plain": [
       "<Figure size 640x480 with 1 Axes>"
      ]
     },
     "metadata": {},
     "output_type": "display_data"
    }
   ],
   "source": [
    "plt.imshow(X[2137, 11, :, :]);"
   ]
  },
  {
   "cell_type": "code",
   "execution_count": 10,
   "metadata": {},
   "outputs": [],
   "source": [
    "data_splits = split_data_by_proportions(\n",
    "    model_input_data, model_params[\"data_parameters\"])\n",
    "\n",
    "train_data, valid_data, test_data = create_dataloaders(\n",
    "    data_splits, model_params[\"data_parameters\"])"
   ]
  },
  {
   "cell_type": "code",
   "execution_count": 11,
   "metadata": {},
   "outputs": [
    {
     "data": {
      "text/plain": [
       "(torch.Size([64, 1, 18, 64, 64]), torch.Size([64]))"
      ]
     },
     "execution_count": 11,
     "metadata": {},
     "output_type": "execute_result"
    }
   ],
   "source": [
    "single_batch = next(iter(train_data))\n",
    "\n",
    "\n",
    "features, targets = single_batch\n",
    "features, targets = features.to('cuda'), targets.to('cuda')\n",
    "\n",
    "features.shape, targets.shape"
   ]
  },
  {
   "cell_type": "code",
   "execution_count": 12,
   "metadata": {},
   "outputs": [],
   "source": [
    "model_parameters = model_params[\"model_parameters\"]"
   ]
  },
  {
   "cell_type": "code",
   "execution_count": 13,
   "metadata": {},
   "outputs": [],
   "source": [
    "model = SimpleNet(\n",
    "    in_channels=model_parameters[\"in_channels\"],\n",
    "    num_classes=model_parameters[\"num_classes\"],\n",
    "    dropout=model_parameters[\"dropout\"])\n",
    "\n",
    "model = model.to(model_parameters[\"device\"])"
   ]
  },
  {
   "cell_type": "code",
   "execution_count": 14,
   "metadata": {},
   "outputs": [
    {
     "data": {
      "text/plain": [
       "SimpleNet(\n",
       "  (conv_net): Sequential(\n",
       "    (0): Conv2Plus1D(\n",
       "      (spatial_convolution): Conv2d(1, 7, kernel_size=(3, 3), stride=(1, 1), padding=(1, 1))\n",
       "      (temporal_convolution): Conv1d(7, 16, kernel_size=(3,), stride=(1,), padding=(1,))\n",
       "    )\n",
       "    (1): BatchNorm3d(16, eps=1e-05, momentum=0.1, affine=True, track_running_stats=True)\n",
       "    (2): ReLU(inplace=True)\n",
       "    (3): MaxPool3d(kernel_size=(2, 2, 2), stride=(2, 2, 2), padding=0, dilation=1, ceil_mode=False)\n",
       "    (4): Conv2Plus1D(\n",
       "      (spatial_convolution): Conv2d(16, 57, kernel_size=(3, 3), stride=(1, 1), padding=(1, 1))\n",
       "      (temporal_convolution): Conv1d(57, 32, kernel_size=(3,), stride=(1,), padding=(1,))\n",
       "    )\n",
       "    (5): BatchNorm3d(32, eps=1e-05, momentum=0.1, affine=True, track_running_stats=True)\n",
       "    (6): ReLU(inplace=True)\n",
       "    (7): MaxPool3d(kernel_size=(2, 2, 2), stride=(2, 2, 2), padding=0, dilation=1, ceil_mode=False)\n",
       "    (8): Conv2Plus1D(\n",
       "      (spatial_convolution): Conv2d(32, 115, kernel_size=(3, 3), stride=(1, 1), padding=(1, 1))\n",
       "      (temporal_convolution): Conv1d(115, 64, kernel_size=(3,), stride=(1,), padding=(1,))\n",
       "    )\n",
       "    (9): BatchNorm3d(64, eps=1e-05, momentum=0.1, affine=True, track_running_stats=True)\n",
       "    (10): ReLU(inplace=True)\n",
       "    (11): MaxPool3d(kernel_size=(2, 2, 2), stride=(2, 2, 2), padding=0, dilation=1, ceil_mode=False)\n",
       "  )\n",
       "  (global_pool): AdaptiveAvgPool3d(output_size=(1, 1, 1))\n",
       "  (fc): Sequential(\n",
       "    (0): Linear(in_features=64, out_features=128, bias=True)\n",
       "    (1): ReLU(inplace=True)\n",
       "    (2): Dropout(p=0.1, inplace=False)\n",
       "    (3): Linear(in_features=128, out_features=32, bias=True)\n",
       "    (4): ReLU(inplace=True)\n",
       "    (5): Dropout(p=0.1, inplace=False)\n",
       "    (6): Linear(in_features=32, out_features=2, bias=True)\n",
       "  )\n",
       ")"
      ]
     },
     "execution_count": 14,
     "metadata": {},
     "output_type": "execute_result"
    }
   ],
   "source": [
    "model"
   ]
  },
  {
   "cell_type": "code",
   "execution_count": 15,
   "metadata": {},
   "outputs": [
    {
     "name": "stdout",
     "output_type": "stream",
     "text": [
      "==========================================================================================\n",
      "Layer (type:depth-idx)                   Output Shape              Param #\n",
      "==========================================================================================\n",
      "├─Sequential: 1-1                        [-1, 64, 2, 16, 16]       --\n",
      "|    └─Conv2Plus1D: 2-1                  [-1, 16, 18, 128, 128]    --\n",
      "|    |    └─Conv2d: 3-1                  [-1, 7, 128, 128]         70\n",
      "|    |    └─Conv1d: 3-2                  [-1, 16, 18]              352\n",
      "|    └─BatchNorm3d: 2-2                  [-1, 16, 18, 128, 128]    32\n",
      "|    └─ReLU: 2-3                         [-1, 16, 18, 128, 128]    --\n",
      "|    └─MaxPool3d: 2-4                    [-1, 16, 9, 64, 64]       --\n",
      "|    └─Conv2Plus1D: 2-5                  [-1, 32, 9, 64, 64]       --\n",
      "|    |    └─Conv2d: 3-3                  [-1, 57, 64, 64]          8,265\n",
      "|    |    └─Conv1d: 3-4                  [-1, 32, 9]               5,504\n",
      "|    └─BatchNorm3d: 2-6                  [-1, 32, 9, 64, 64]       64\n",
      "|    └─ReLU: 2-7                         [-1, 32, 9, 64, 64]       --\n",
      "|    └─MaxPool3d: 2-8                    [-1, 32, 4, 32, 32]       --\n",
      "|    └─Conv2Plus1D: 2-9                  [-1, 64, 4, 32, 32]       --\n",
      "|    |    └─Conv2d: 3-5                  [-1, 115, 32, 32]         33,235\n",
      "|    |    └─Conv1d: 3-6                  [-1, 64, 4]               22,144\n",
      "|    └─BatchNorm3d: 2-10                 [-1, 64, 4, 32, 32]       128\n",
      "|    └─ReLU: 2-11                        [-1, 64, 4, 32, 32]       --\n",
      "|    └─MaxPool3d: 2-12                   [-1, 64, 2, 16, 16]       --\n",
      "├─AdaptiveAvgPool3d: 1-2                 [-1, 64, 1, 1, 1]         --\n",
      "├─Sequential: 1-3                        [-1, 2]                   --\n",
      "|    └─Linear: 2-13                      [-1, 128]                 8,320\n",
      "|    └─ReLU: 2-14                        [-1, 128]                 --\n",
      "|    └─Dropout: 2-15                     [-1, 128]                 --\n",
      "|    └─Linear: 2-16                      [-1, 32]                  4,128\n",
      "|    └─ReLU: 2-17                        [-1, 32]                  --\n",
      "|    └─Dropout: 2-18                     [-1, 32]                  --\n",
      "|    └─Linear: 2-19                      [-1, 2]                   66\n",
      "==========================================================================================\n",
      "Total params: 82,308\n",
      "Trainable params: 82,308\n",
      "Non-trainable params: 0\n",
      "Total mult-adds (M): 68.87\n",
      "==========================================================================================\n",
      "Input size (MB): 1.12\n",
      "Forward/backward pass size (MB): 50.56\n",
      "Params size (MB): 0.31\n",
      "Estimated Total Size (MB): 52.00\n",
      "==========================================================================================\n"
     ]
    },
    {
     "data": {
      "text/plain": [
       "==========================================================================================\n",
       "Layer (type:depth-idx)                   Output Shape              Param #\n",
       "==========================================================================================\n",
       "├─Sequential: 1-1                        [-1, 64, 2, 16, 16]       --\n",
       "|    └─Conv2Plus1D: 2-1                  [-1, 16, 18, 128, 128]    --\n",
       "|    |    └─Conv2d: 3-1                  [-1, 7, 128, 128]         70\n",
       "|    |    └─Conv1d: 3-2                  [-1, 16, 18]              352\n",
       "|    └─BatchNorm3d: 2-2                  [-1, 16, 18, 128, 128]    32\n",
       "|    └─ReLU: 2-3                         [-1, 16, 18, 128, 128]    --\n",
       "|    └─MaxPool3d: 2-4                    [-1, 16, 9, 64, 64]       --\n",
       "|    └─Conv2Plus1D: 2-5                  [-1, 32, 9, 64, 64]       --\n",
       "|    |    └─Conv2d: 3-3                  [-1, 57, 64, 64]          8,265\n",
       "|    |    └─Conv1d: 3-4                  [-1, 32, 9]               5,504\n",
       "|    └─BatchNorm3d: 2-6                  [-1, 32, 9, 64, 64]       64\n",
       "|    └─ReLU: 2-7                         [-1, 32, 9, 64, 64]       --\n",
       "|    └─MaxPool3d: 2-8                    [-1, 32, 4, 32, 32]       --\n",
       "|    └─Conv2Plus1D: 2-9                  [-1, 64, 4, 32, 32]       --\n",
       "|    |    └─Conv2d: 3-5                  [-1, 115, 32, 32]         33,235\n",
       "|    |    └─Conv1d: 3-6                  [-1, 64, 4]               22,144\n",
       "|    └─BatchNorm3d: 2-10                 [-1, 64, 4, 32, 32]       128\n",
       "|    └─ReLU: 2-11                        [-1, 64, 4, 32, 32]       --\n",
       "|    └─MaxPool3d: 2-12                   [-1, 64, 2, 16, 16]       --\n",
       "├─AdaptiveAvgPool3d: 1-2                 [-1, 64, 1, 1, 1]         --\n",
       "├─Sequential: 1-3                        [-1, 2]                   --\n",
       "|    └─Linear: 2-13                      [-1, 128]                 8,320\n",
       "|    └─ReLU: 2-14                        [-1, 128]                 --\n",
       "|    └─Dropout: 2-15                     [-1, 128]                 --\n",
       "|    └─Linear: 2-16                      [-1, 32]                  4,128\n",
       "|    └─ReLU: 2-17                        [-1, 32]                  --\n",
       "|    └─Dropout: 2-18                     [-1, 32]                  --\n",
       "|    └─Linear: 2-19                      [-1, 2]                   66\n",
       "==========================================================================================\n",
       "Total params: 82,308\n",
       "Trainable params: 82,308\n",
       "Non-trainable params: 0\n",
       "Total mult-adds (M): 68.87\n",
       "==========================================================================================\n",
       "Input size (MB): 1.12\n",
       "Forward/backward pass size (MB): 50.56\n",
       "Params size (MB): 0.31\n",
       "Estimated Total Size (MB): 52.00\n",
       "=========================================================================================="
      ]
     },
     "execution_count": 15,
     "metadata": {},
     "output_type": "execute_result"
    }
   ],
   "source": [
    "summary(model, input_data=(1, 18, 128, 128))"
   ]
  },
  {
   "cell_type": "code",
   "execution_count": 16,
   "metadata": {},
   "outputs": [],
   "source": [
    "loss_fn = BCEWithLogitsLoss()\n",
    "accuracy_fn = BinaryAccuracy()\n",
    "\n",
    "optimizer = SGD(\n",
    "    params=model.parameters(),\n",
    "    lr=model_parameters[\"learning_rate\"],\n",
    "    weight_decay=model_parameters[\"weight_decay\"])\n",
    "    \n",
    "lr_scheduler = StepLR(\n",
    "    optimizer,\n",
    "    step_size=model_parameters[\"step_size\"],\n",
    "    gamma=model_parameters[\"gamma\"])"
   ]
  },
  {
   "cell_type": "code",
   "execution_count": 18,
   "metadata": {},
   "outputs": [
    {
     "data": {
      "text/plain": [
       "tensor([[-0.0941, -0.2015],\n",
       "        [ 0.0102, -0.3050],\n",
       "        [-0.1143, -0.3359],\n",
       "        [-0.0169, -0.1669],\n",
       "        [-0.0565, -0.3003],\n",
       "        [-0.0215, -0.3397],\n",
       "        [-0.1484, -0.2690],\n",
       "        [ 0.0054, -0.1211],\n",
       "        [ 0.0107, -0.1467],\n",
       "        [-0.0292, -0.3553],\n",
       "        [-0.1121, -0.2732],\n",
       "        [-0.2011, -0.3425],\n",
       "        [ 0.0038, -0.2056],\n",
       "        [-0.0495, -0.2830],\n",
       "        [ 0.0411, -0.1861],\n",
       "        [-0.0273, -0.2350],\n",
       "        [ 0.0793, -0.1201],\n",
       "        [-0.0562, -0.1731],\n",
       "        [ 0.0335, -0.2016],\n",
       "        [-0.0151, -0.2897],\n",
       "        [-0.0724, -0.1502],\n",
       "        [-0.0655, -0.4070],\n",
       "        [-0.0233, -0.2505],\n",
       "        [-0.0760, -0.2207],\n",
       "        [-0.0503, -0.2108],\n",
       "        [ 0.0544, -0.1662],\n",
       "        [-0.0460, -0.1209],\n",
       "        [-0.0547, -0.3427],\n",
       "        [ 0.0073, -0.2724],\n",
       "        [ 0.0310, -0.3057],\n",
       "        [-0.0081, -0.2605],\n",
       "        [ 0.0534, -0.2413],\n",
       "        [-0.0987, -0.2512],\n",
       "        [-0.0062, -0.2693],\n",
       "        [-0.0012, -0.1262],\n",
       "        [-0.0051, -0.2224],\n",
       "        [-0.0554, -0.2456],\n",
       "        [-0.0039, -0.2599],\n",
       "        [-0.0761, -0.1695],\n",
       "        [-0.0147, -0.3153],\n",
       "        [-0.0072, -0.3159],\n",
       "        [-0.1272, -0.4066],\n",
       "        [-0.0611, -0.2961],\n",
       "        [-0.0761, -0.2606],\n",
       "        [ 0.0212, -0.2299],\n",
       "        [ 0.0869, -0.2749],\n",
       "        [-0.0619, -0.1806],\n",
       "        [-0.0047, -0.2408],\n",
       "        [ 0.0019, -0.2089],\n",
       "        [-0.1036, -0.3327],\n",
       "        [-0.0403, -0.3177],\n",
       "        [-0.0785, -0.2886],\n",
       "        [-0.1955, -0.2660],\n",
       "        [-0.0272, -0.2019],\n",
       "        [ 0.0316, -0.3333],\n",
       "        [-0.0368, -0.2776],\n",
       "        [ 0.0879, -0.2769],\n",
       "        [-0.0209, -0.2412],\n",
       "        [-0.0425, -0.2300],\n",
       "        [-0.1734, -0.3767],\n",
       "        [ 0.0980, -0.2405],\n",
       "        [-0.0136, -0.1573],\n",
       "        [-0.0666, -0.1750],\n",
       "        [-0.0271, -0.2249]], device='cuda:0', grad_fn=<AddmmBackward0>)"
      ]
     },
     "execution_count": 18,
     "metadata": {},
     "output_type": "execute_result"
    }
   ],
   "source": [
    "output = model(features)\n",
    "output"
   ]
  },
  {
   "cell_type": "code",
   "execution_count": 19,
   "metadata": {},
   "outputs": [],
   "source": [
    "from torch.nn import CrossEntropyLoss"
   ]
  },
  {
   "cell_type": "code",
   "execution_count": 20,
   "metadata": {},
   "outputs": [],
   "source": [
    "import torch"
   ]
  },
  {
   "cell_type": "code",
   "execution_count": 21,
   "metadata": {},
   "outputs": [
    {
     "data": {
      "text/plain": [
       "tensor([0, 1, 0, 1, 0], device='cuda:0')"
      ]
     },
     "execution_count": 21,
     "metadata": {},
     "output_type": "execute_result"
    }
   ],
   "source": [
    "targets[:5]"
   ]
  },
  {
   "cell_type": "code",
   "execution_count": 33,
   "metadata": {},
   "outputs": [
    {
     "data": {
      "text/plain": [
       "tensor([[0., 1.],\n",
       "        [0., 1.],\n",
       "        [0., 1.],\n",
       "        [1., 0.],\n",
       "        [1., 0.]], device='cuda:0')"
      ]
     },
     "execution_count": 33,
     "metadata": {},
     "output_type": "execute_result"
    }
   ],
   "source": [
    "targets[:5]"
   ]
  },
  {
   "cell_type": "code",
   "execution_count": 32,
   "metadata": {},
   "outputs": [
    {
     "data": {
      "text/plain": [
       "tensor([1, 1, 1, 0, 0], device='cuda:0')"
      ]
     },
     "execution_count": 32,
     "metadata": {},
     "output_type": "execute_result"
    }
   ],
   "source": [
    "torch.argmax(targets[:5], dim=1)"
   ]
  },
  {
   "cell_type": "code",
   "execution_count": 22,
   "metadata": {},
   "outputs": [
    {
     "data": {
      "text/plain": [
       "(torch.Size([64]), torch.Size([64, 2]))"
      ]
     },
     "execution_count": 22,
     "metadata": {},
     "output_type": "execute_result"
    }
   ],
   "source": [
    "targets.shape, output.shape"
   ]
  },
  {
   "cell_type": "code",
   "execution_count": 23,
   "metadata": {},
   "outputs": [],
   "source": [
    "loss_fn = CrossEntropyLoss()"
   ]
  },
  {
   "cell_type": "code",
   "execution_count": 26,
   "metadata": {},
   "outputs": [
    {
     "data": {
      "text/plain": [
       "tensor(0.7027, device='cuda:0', grad_fn=<NllLossBackward0>)"
      ]
     },
     "execution_count": 26,
     "metadata": {},
     "output_type": "execute_result"
    }
   ],
   "source": [
    "loss_fn(output, targets)"
   ]
  },
  {
   "cell_type": "code",
   "execution_count": 25,
   "metadata": {},
   "outputs": [
    {
     "name": "stdout",
     "output_type": "stream",
     "text": [
      "Typ output: torch.float32\n",
      "Typ targets: torch.int64\n"
     ]
    }
   ],
   "source": [
    "print(\"Typ output:\", output.dtype)  # Powinno być torch.float32 lub torch.float64\n",
    "print(\"Typ targets:\", targets.dtype)  # Powinno być torch.int64 (long)"
   ]
  },
  {
   "cell_type": "code",
   "execution_count": null,
   "metadata": {},
   "outputs": [],
   "source": []
  },
  {
   "cell_type": "code",
   "execution_count": null,
   "metadata": {},
   "outputs": [],
   "source": []
  },
  {
   "cell_type": "code",
   "execution_count": null,
   "metadata": {},
   "outputs": [],
   "source": []
  },
  {
   "cell_type": "code",
   "execution_count": null,
   "metadata": {},
   "outputs": [],
   "source": []
  },
  {
   "cell_type": "code",
   "execution_count": null,
   "metadata": {},
   "outputs": [],
   "source": []
  },
  {
   "cell_type": "code",
   "execution_count": null,
   "metadata": {},
   "outputs": [],
   "source": []
  },
  {
   "cell_type": "code",
   "execution_count": null,
   "metadata": {},
   "outputs": [],
   "source": []
  },
  {
   "cell_type": "code",
   "execution_count": null,
   "metadata": {},
   "outputs": [],
   "source": []
  },
  {
   "cell_type": "code",
   "execution_count": null,
   "metadata": {},
   "outputs": [],
   "source": []
  }
 ],
 "metadata": {
  "kernelspec": {
   "display_name": "research_env",
   "language": "python",
   "name": "python3"
  },
  "language_info": {
   "codemirror_mode": {
    "name": "ipython",
    "version": 3
   },
   "file_extension": ".py",
   "mimetype": "text/x-python",
   "name": "python",
   "nbconvert_exporter": "python",
   "pygments_lexer": "ipython3",
   "version": "3.11.1"
  }
 },
 "nbformat": 4,
 "nbformat_minor": 2
}
